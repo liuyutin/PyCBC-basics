{
 "cells": [
  {
   "cell_type": "code",
   "execution_count": 21,
   "metadata": {},
   "outputs": [
    {
     "name": "stdout",
     "output_type": "stream",
     "text": [
      "GEO_600 G1 \n",
      "ALLEGRO_320 A1 \n",
      "LHO_4k H1 \n",
      "TAMA_300 T1 \n",
      "VIRGO_CITF V0 \n",
      "VIRGO V1 \n",
      "ET3_T1400308 E3 \n",
      "EXPLORER X1 \n",
      "CIT_40 C1 \n",
      "KAGRA K1 \n",
      "ET2_T1400308 E2 \n",
      "ET0_T1400308 E0 \n",
      "LIO_4k I1 \n",
      "ET1_T1400308 E1 \n",
      "ACIGA U1 \n",
      "AURIGA O1 \n",
      "NIOBE B1 \n",
      "LHO_2k H2 \n",
      "LLO_4k L1 \n",
      "Nautilus N1 \n"
     ]
    }
   ],
   "source": [
    "#Print the detector names\n",
    "\n",
    "from pycbc.detector import Detector, get_available_detectors\n",
    "\n",
    "for abv, long_name in get_available_detectors():\n",
    "    d = Detector(abv)\n",
    "\n",
    "    print(\"{} {} \".format(long_name, abv))"
   ]
  },
  {
   "cell_type": "code",
   "execution_count": 19,
   "metadata": {},
   "outputs": [
    {
     "name": "stdout",
     "output_type": "stream",
     "text": [
      "(-0.3819833115354783, 0.594141241659044)\n",
      "(0.611467419080653, -0.5704626094300451)\n"
     ]
    }
   ],
   "source": [
    "h = Detector('H1')\n",
    "l = Detector('L1')\n",
    "\n",
    "print(h.antenna_pattern(0,0,0,0))\n",
    "print(l.antenna_pattern(0,0,0,0))"
   ]
  },
  {
   "cell_type": "code",
   "execution_count": null,
   "metadata": {},
   "outputs": [],
   "source": []
  }
 ],
 "metadata": {
  "kernelspec": {
   "display_name": "Python 2",
   "language": "python",
   "name": "python2"
  },
  "language_info": {
   "codemirror_mode": {
    "name": "ipython",
    "version": 2
   },
   "file_extension": ".py",
   "mimetype": "text/x-python",
   "name": "python",
   "nbconvert_exporter": "python",
   "pygments_lexer": "ipython2",
   "version": "2.7.16"
  }
 },
 "nbformat": 4,
 "nbformat_minor": 2
}
