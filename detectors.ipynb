{
 "cells": [
  {
   "cell_type": "code",
   "execution_count": 2,
   "metadata": {},
   "outputs": [
    {
     "name": "stdout",
     "output_type": "stream",
     "text": [
      "GEO_600 G1 Latitude 0.91184982752 Longitude 0.17116780435\n",
      "ALLEGRO_320 A1 Latitude 0.53079879206 Longitude -1.59137068496\n",
      "LHO_4k H1 Latitude 0.81079526383 Longitude -2.08405676917\n",
      "TAMA_300 T1 Latitude 0.62267336022 Longitude 2.43536359469\n",
      "VIRGO_CITF V0 Latitude 0.76151183984 Longitude 0.18333805213\n",
      "VIRGO V1 Latitude 0.76151183984 Longitude 0.18333805213\n",
      "ET3_T1400308 E3 Latitude 0.76270463257 Longitude 0.1819299673\n",
      "EXPLORER X1 Latitude 0.81070543755 Longitude 0.10821041362\n",
      "CIT_40 C1 Latitude 0.59637900541 Longitude -2.06175744538\n",
      "KAGRA K1 Latitude 0.6355068497 Longitude 2.396441015\n",
      "ET2_T1400308 E2 Latitude 0.7629930799 Longitude 0.1840585887\n",
      "ET0_T1400308 E0 Latitude 0.76270463257 Longitude 0.1819299673\n",
      "LIO_4k I1 Latitude 0.248418530201 Longitude 1.33401332494\n",
      "ET1_T1400308 E1 Latitude 0.76151183984 Longitude 0.18333805213\n",
      "ACIGA U1 Latitude 0.0 Longitude 0.0\n",
      "AURIGA O1 Latitude 0.79156499342 Longitude 0.20853775679\n",
      "NIOBE B1 Latitude -0.5573418078 Longitude 2.02138216202\n",
      "LHO_2k H2 Latitude 0.81079526383 Longitude -2.08405676917\n",
      "LLO_4k L1 Latitude 0.53342313506 Longitude -1.58430937078\n",
      "Nautilus N1 Latitude 0.7299645671 Longitude 0.22117684946\n"
     ]
    }
   ],
   "source": [
    "from pycbc.detector import Detector, get_available_detectors\n",
    "\n",
    "for abv, long_name in get_available_detectors():\n",
    "    d = Detector(abv)\n",
    "\n",
    "    # Note that units are all in radians\n",
    "    print(\"{} {} Latitude {} Longitude {}\".format(long_name, abv,\n",
    "                                                  d.latitude,\n",
    "                                                  d.longitude))"
   ]
  },
  {
   "cell_type": "code",
   "execution_count": null,
   "metadata": {},
   "outputs": [],
   "source": []
  }
 ],
 "metadata": {
  "kernelspec": {
   "display_name": "Python 2",
   "language": "python",
   "name": "python2"
  },
  "language_info": {
   "codemirror_mode": {
    "name": "ipython",
    "version": 2
   },
   "file_extension": ".py",
   "mimetype": "text/x-python",
   "name": "python",
   "nbconvert_exporter": "python",
   "pygments_lexer": "ipython2",
   "version": "2.7.16"
  }
 },
 "nbformat": 4,
 "nbformat_minor": 2
}
