{
 "cells": [
  {
   "cell_type": "code",
   "execution_count": 1,
   "metadata": {},
   "outputs": [
    {
     "name": "stdout",
     "output_type": "stream",
     "text": [
      "GEO_600 G1 Latitude 0.91184982752 Longitude 0.17116780435\n",
      "ALLEGRO_320 A1 Latitude 0.53079879206 Longitude -1.59137068496\n",
      "LHO_4k H1 Latitude 0.81079526383 Longitude -2.08405676917\n",
      "TAMA_300 T1 Latitude 0.62267336022 Longitude 2.43536359469\n",
      "VIRGO_CITF V0 Latitude 0.76151183984 Longitude 0.18333805213\n",
      "VIRGO V1 Latitude 0.76151183984 Longitude 0.18333805213\n",
      "ET3_T1400308 E3 Latitude 0.76270463257 Longitude 0.1819299673\n",
      "EXPLORER X1 Latitude 0.81070543755 Longitude 0.10821041362\n",
      "CIT_40 C1 Latitude 0.59637900541 Longitude -2.06175744538\n",
      "KAGRA K1 Latitude 0.6355068497 Longitude 2.396441015\n",
      "ET2_T1400308 E2 Latitude 0.7629930799 Longitude 0.1840585887\n",
      "ET0_T1400308 E0 Latitude 0.76270463257 Longitude 0.1819299673\n",
      "LIO_4k I1 Latitude 0.248418530201 Longitude 1.33401332494\n",
      "ET1_T1400308 E1 Latitude 0.76151183984 Longitude 0.18333805213\n",
      "ACIGA U1 Latitude 0.0 Longitude 0.0\n",
      "AURIGA O1 Latitude 0.79156499342 Longitude 0.20853775679\n",
      "NIOBE B1 Latitude -0.5573418078 Longitude 2.02138216202\n",
      "LHO_2k H2 Latitude 0.81079526383 Longitude -2.08405676917\n",
      "LLO_4k L1 Latitude 0.53342313506 Longitude -1.58430937078\n",
      "Nautilus N1 Latitude 0.7299645671 Longitude 0.22117684946\n"
     ]
    }
   ],
   "source": [
    "# Read the position of detectors\n",
    "from pycbc.detector import Detector, get_available_detectors\n",
    "\n",
    "for abv, detector in get_available_detectors():\n",
    "    d = Detector(abv)\n",
    "\n",
    "    # Note that units are all in radians\n",
    "    print(\"{} {} Latitude {} Longitude {}\".format(detector, abv,\n",
    "                                                  d.latitude,\n",
    "                                                  d.longitude))"
   ]
  },
  {
   "cell_type": "code",
   "execution_count": 2,
   "metadata": {},
   "outputs": [
    {
     "name": "stdout",
     "output_type": "stream",
     "text": [
      "Direct Time from H1 to L1 is 0.0100128461522 seconds\n"
     ]
    }
   ],
   "source": [
    "# Read the direct light travel time\n",
    "from pycbc.detector import Detector\n",
    "\n",
    "dt = Detector('H1').light_travel_time_to_detector(Detector('L1'))\n",
    "print(\"Direct Time from {} to {} is {} seconds\".format('H1', 'L1', dt))"
   ]
  },
  {
   "cell_type": "code",
   "execution_count": 3,
   "metadata": {},
   "outputs": [
    {
     "name": "stdout",
     "output_type": "stream",
     "text": [
      "Estimated earth radius is: 6381.96205818km\n"
     ]
    }
   ],
   "source": [
    "# Radius calculation\n",
    "\n",
    "#According to NASA:\n",
    "#Eatrh mean radius: 6371.0 km\n",
    "#Eatrh equatorial radius: 6378.1 km\n",
    "#Eatrh polar radius: 6356.8 km\n",
    "\n",
    "from math import cos, sin, asin, sqrt\n",
    "\n",
    "def radius(lat1,lng1,lat2,lng2, t):\n",
    "    dlon=lng2-lng1\n",
    "    dlat=lat2-lat1\n",
    "    \n",
    "    a=sin(dlat/2)**2 + cos(lat1) * cos(lat2) * sin(dlon/2)**2\n",
    "    aob = 2*asin(sqrt(a))\n",
    "    cosAOB = cos(aob) # Earth radius is 6371km\n",
    "    R = t*3*(10**5)/((2-2*cosAOB))**0.5\n",
    "    \n",
    "    return R\n",
    "\n",
    "R_hl = radius(lat1 = 0.81079526383, lng1 = -2.08405676917, \n",
    "              lat2 = 0.53342313506, lng2 = -1.58430937078,  \n",
    "              t=0.0100128461522)\n",
    "\n",
    "print('Estimated earth radius is: ' +str(R_hl)+ 'km')\n"
   ]
  },
  {
   "cell_type": "code",
   "execution_count": null,
   "metadata": {},
   "outputs": [],
   "source": []
  }
 ],
 "metadata": {
  "kernelspec": {
   "display_name": "Python 2",
   "language": "python",
   "name": "python2"
  },
  "language_info": {
   "codemirror_mode": {
    "name": "ipython",
    "version": 2
   },
   "file_extension": ".py",
   "mimetype": "text/x-python",
   "name": "python",
   "nbconvert_exporter": "python",
   "pygments_lexer": "ipython2",
   "version": "2.7.16"
  }
 },
 "nbformat": 4,
 "nbformat_minor": 2
}
