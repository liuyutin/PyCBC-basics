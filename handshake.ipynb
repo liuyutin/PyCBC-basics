{
 "cells": [
  {
   "cell_type": "code",
   "execution_count": 7,
   "metadata": {},
   "outputs": [
    {
     "data": {
      "text/plain": [
       "[<matplotlib.lines.Line2D at 0x7f552e5c6210>]"
      ]
     },
     "execution_count": 7,
     "metadata": {},
     "output_type": "execute_result"
    },
    {
     "data": {
      "image/png": "[encoded data removed]",
      "text/plain": [
       "<Figure size 432x288 with 1 Axes>"
      ]
     },
     "metadata": {
      "needs_background": "light"
     },
     "output_type": "display_data"
    }
   ],
   "source": [
    "import pylab\n",
    "from pycbc import waveform\n",
    "import numpy as np\n",
    "import matplotlib.pyplot as plt\n",
    "\n",
    "mass1 = np.linspace(10,20,21) # Mass1 = 10, 10.5, 11, ......, 20\n",
    "mass2 = mass1 # Mass2 = 10, 10.5, 11, ......, 20\n",
    "\n",
    "chirp_mass_list = [] # Make a empty list, to collect chirp masses.\n",
    "h_list = [] # Make a empty list, to collect amplitudes.\n",
    "\n",
    "#--------------Generating wavefroms depending on the mass lists------------------#\n",
    "for i in range(len(mass1)):\n",
    "    for j in range(len(mass2)):\n",
    "        if mass1[i] == mass2[j]:\n",
    "            hp, hc = waveform.get_td_waveform(approximant='IMRPhenomPv2',\n",
    "                                 distance  = 3.2408e-23, #1 meter away\n",
    "                                 mass1=mass1[i], mass2=mass2[j],\n",
    "                                 delta_t=1.0/4096,\n",
    "                                 f_lower=40)\n",
    "#---------------------------Generating over--------------------------------------#\n",
    "\n",
    "#--------Collecting the amplitudes and chirp masses to make liner function-------#\n",
    "            signal_h1 = hp\n",
    "            signal_h1_array = np.array(signal_h1)\n",
    "            list_h1 = signal_h1_array.tolist()\n",
    "            h1_max_index = list_h1.index(max(list_h1))\n",
    "        \n",
    "            chirp_mass = (mass1[i] * mass2[j])**(0.6) / (mass1[i] + mass2[j])**(0.2)\n",
    "            chirp_mass_list.append((chirp_mass**(1.66666667))) # Chirp mass collecting\n",
    "            h_list.append(signal_h1_array[h1_max_index]) # Amplitude collecting.\n",
    "#---------------------------------Collecting over---------------------------------#\n",
    "\n",
    "plt.ylabel('Strain')\n",
    "plt.xlabel('Chirp mass^(5/3)')\n",
    "plt.legend()\n",
    "plt.plot(chirp_mass_list,h_list,'.')"
   ]
  },
  {
   "cell_type": "code",
   "execution_count": null,
   "metadata": {},
   "outputs": [],
   "source": []
  }
 ],
 "metadata": {
  "kernelspec": {
   "display_name": "Python 2",
   "language": "python",
   "name": "python2"
  },
  "language_info": {
   "codemirror_mode": {
    "name": "ipython",
    "version": 2
   },
   "file_extension": ".py",
   "mimetype": "text/x-python",
   "name": "python",
   "nbconvert_exporter": "python",
   "pygments_lexer": "ipython2",
   "version": "2.7.16"
  }
 },
 "nbformat": 4,
 "nbformat_minor": 2
}
